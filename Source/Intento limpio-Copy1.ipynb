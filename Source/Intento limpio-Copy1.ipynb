{
 "cells": [
  {
   "cell_type": "markdown",
   "metadata": {},
   "source": [
    "Primeramente vamos a importar el modelo."
   ]
  },
  {
   "cell_type": "code",
   "execution_count": 2,
   "metadata": {},
   "outputs": [],
   "source": [
    "## for data\n",
    "import pandas as pd\n",
    "import numpy as np\n",
    "## for plotting\n",
    "import matplotlib.pyplot as plt\n",
    "import seaborn as sns\n",
    "## for statistical tests\n",
    "import scipy\n",
    "import statsmodels.formula.api as smf\n",
    "import statsmodels.api as sm\n",
    "## for machine learning\n",
    "from sklearn import model_selection, preprocessing, feature_selection, ensemble, linear_model, metrics, decomposition\n",
    "## for explainer\n",
    "from lime import lime_tabular\n",
    "from sklearn.model_selection import train_test_split\n",
    "from sklearn.preprocessing import Normalizer\n",
    "from sklearn import preprocessing\n",
    "from sklearn.pipeline import make_pipeline\n",
    "from sklearn.preprocessing import StandardScaler\n",
    "from sklearn.neighbors import KNeighborsRegressor\n",
    "from sklearn.metrics import mean_squared_error\n",
    "from sklearn.neural_network import MLPRegressor\n",
    "from sklearn.linear_model import LinearRegression\n",
    "from sklearn.ensemble import RandomForestRegressor\n",
    "from sklearn.datasets import make_regression\n",
    "import math\n",
    "from pyspark import SparkContext"
   ]
  },
  {
   "cell_type": "code",
   "execution_count": null,
   "metadata": {},
   "outputs": [],
   "source": [
    "#para abrir un dataframe\n",
    "spark_df = spark.createDataFrame(spark_df)\n",
    "spark_df.show()"
   ]
  },
  {
   "cell_type": "code",
   "execution_count": 3,
   "metadata": {},
   "outputs": [
    {
     "name": "stdout",
     "output_type": "stream",
     "text": [
      "+-----+-----+----+----+----+-----+--------+---------+-----------+-------------+-------+-------+-------+-------+-------+-------+----------+-----------+-----------+-----------+-----------+------------+------------+\n",
      "|carat|depth|   x|   y|   z|price|cut_Good|cut_Ideal|cut_Premium|cut_Very Good|color_E|color_F|color_G|color_H|color_I|color_J|clarity_IF|clarity_SI1|clarity_SI2|clarity_VS1|clarity_VS2|clarity_VVS1|clarity_VVS2|\n",
      "+-----+-----+----+----+----+-----+--------+---------+-----------+-------------+-------+-------+-------+-------+-------+-------+----------+-----------+-----------+-----------+-----------+------------+------------+\n",
      "|  0.3| 62.8|4.29|4.31| 2.7|  605|       0|        0|          0|            1|      0|      1|      0|      0|      0|      0|         0|          0|          0|          0|          1|           0|           0|\n",
      "| 0.34| 62.6|4.46|4.49| 2.8|  565|       0|        1|          0|            0|      1|      0|      0|      0|      0|      0|         0|          1|          0|          0|          0|           0|           0|\n",
      "|  0.4| 60.3| 4.7|4.75|2.85|  720|       0|        0|          0|            1|      0|      0|      0|      0|      0|      0|         0|          1|          0|          0|          0|           0|           0|\n",
      "|  0.4| 61.8|4.72|4.74|2.92|  793|       0|        0|          1|            0|      0|      0|      0|      1|      0|      0|         0|          0|          0|          1|          0|           0|           0|\n",
      "|  0.9| 61.0| 6.1|6.13|3.73| 4381|       0|        0|          0|            1|      0|      0|      0|      0|      0|      0|         0|          1|          0|          0|          0|           0|           0|\n",
      "|  0.6| 61.7|5.39|5.44|3.34| 2263|       0|        1|          0|            0|      0|      0|      0|      0|      0|      0|         0|          1|          0|          0|          0|           0|           0|\n",
      "| 0.32| 63.1|4.37|4.41|2.77|  524|       1|        0|          0|            0|      1|      0|      0|      0|      0|      0|         0|          1|          0|          0|          0|           0|           0|\n",
      "|  0.3| 60.0| 4.4|4.36|2.63|  844|       0|        0|          1|            0|      1|      0|      0|      0|      0|      0|         0|          0|          0|          0|          1|           0|           0|\n",
      "| 0.52| 62.4|5.19|5.16|3.23| 1577|       0|        0|          1|            0|      0|      0|      1|      0|      0|      0|         0|          0|          0|          0|          1|           0|           0|\n",
      "| 0.41| 61.8|4.74|4.78|2.94|  705|       0|        0|          0|            1|      1|      0|      0|      0|      0|      0|         0|          1|          0|          0|          0|           0|           0|\n",
      "| 0.31| 61.6|4.34|4.37|2.69|  429|       0|        1|          0|            0|      0|      0|      1|      0|      0|      0|         0|          0|          1|          0|          0|           0|           0|\n",
      "| 0.31| 61.8|4.32|4.35|2.68|  625|       0|        0|          1|            0|      0|      0|      1|      0|      0|      0|         0|          0|          0|          1|          0|           0|           0|\n",
      "|  0.7| 65.5|5.59|5.55|3.65| 1865|       0|        0|          0|            0|      0|      0|      0|      1|      0|      0|         0|          1|          0|          0|          0|           0|           0|\n",
      "| 0.75| 61.0| 5.9|5.94|3.61| 2216|       0|        0|          1|            0|      0|      0|      1|      0|      0|      0|         0|          0|          1|          0|          0|           0|           0|\n",
      "| 1.14| 61.5|6.72|6.75|4.14| 7079|       0|        1|          0|            0|      0|      0|      0|      1|      0|      0|         0|          1|          0|          0|          0|           0|           0|\n",
      "|  0.8| 63.7|5.87| 5.9|3.75| 3460|       0|        0|          0|            1|      0|      1|      0|      0|      0|      0|         0|          0|          0|          1|          0|           0|           0|\n",
      "| 2.01| 62.1|8.11|8.08|5.03|14725|       0|        1|          0|            0|      0|      0|      0|      1|      0|      0|         0|          1|          0|          0|          0|           0|           0|\n",
      "| 1.21| 61.3|6.85|6.89|4.21| 8950|       0|        1|          0|            0|      0|      0|      0|      1|      0|      0|         0|          0|          0|          0|          0|           0|           1|\n",
      "|  0.9| 64.0| 6.0|5.96|3.83| 2873|       1|        0|          0|            0|      0|      0|      0|      0|      0|      1|         0|          1|          0|          0|          0|           0|           0|\n",
      "| 1.51| 60.1|7.51|7.57|4.53|14889|       0|        0|          0|            1|      1|      0|      0|      0|      0|      0|         0|          0|          0|          0|          1|           0|           0|\n",
      "+-----+-----+----+----+----+-----+--------+---------+-----------+-------------+-------+-------+-------+-------+-------+-------+----------+-----------+-----------+-----------+-----------+------------+------------+\n",
      "only showing top 20 rows\n",
      "\n"
     ]
    }
   ],
   "source": [
    "dtf = pd.read_csv('../Data/diamonds_output/Cleaned_diamonds.csv')\n",
    "spark_df = spark.createDataFrame(dtf)\n",
    "spark_df.show()"
   ]
  },
  {
   "cell_type": "code",
   "execution_count": 125,
   "metadata": {},
   "outputs": [
    {
     "data": {
      "text/html": [
       "<div>\n",
       "<style scoped>\n",
       "    .dataframe tbody tr th:only-of-type {\n",
       "        vertical-align: middle;\n",
       "    }\n",
       "\n",
       "    .dataframe tbody tr th {\n",
       "        vertical-align: top;\n",
       "    }\n",
       "\n",
       "    .dataframe thead th {\n",
       "        text-align: right;\n",
       "    }\n",
       "</style>\n",
       "<table border=\"1\" class=\"dataframe\">\n",
       "  <thead>\n",
       "    <tr style=\"text-align: right;\">\n",
       "      <th></th>\n",
       "      <th>carat</th>\n",
       "      <th>depth</th>\n",
       "      <th>x</th>\n",
       "      <th>y</th>\n",
       "      <th>z</th>\n",
       "      <th>price</th>\n",
       "      <th>cut_Good</th>\n",
       "      <th>cut_Ideal</th>\n",
       "      <th>cut_Premium</th>\n",
       "      <th>cut_Very Good</th>\n",
       "      <th>...</th>\n",
       "      <th>color_H</th>\n",
       "      <th>color_I</th>\n",
       "      <th>color_J</th>\n",
       "      <th>clarity_IF</th>\n",
       "      <th>clarity_SI1</th>\n",
       "      <th>clarity_SI2</th>\n",
       "      <th>clarity_VS1</th>\n",
       "      <th>clarity_VS2</th>\n",
       "      <th>clarity_VVS1</th>\n",
       "      <th>clarity_VVS2</th>\n",
       "    </tr>\n",
       "  </thead>\n",
       "  <tbody>\n",
       "    <tr>\n",
       "      <th>0</th>\n",
       "      <td>0.30</td>\n",
       "      <td>62.8</td>\n",
       "      <td>4.29</td>\n",
       "      <td>4.31</td>\n",
       "      <td>2.7</td>\n",
       "      <td>605</td>\n",
       "      <td>0</td>\n",
       "      <td>0</td>\n",
       "      <td>0</td>\n",
       "      <td>1</td>\n",
       "      <td>...</td>\n",
       "      <td>0</td>\n",
       "      <td>0</td>\n",
       "      <td>0</td>\n",
       "      <td>0</td>\n",
       "      <td>0</td>\n",
       "      <td>0</td>\n",
       "      <td>0</td>\n",
       "      <td>1</td>\n",
       "      <td>0</td>\n",
       "      <td>0</td>\n",
       "    </tr>\n",
       "    <tr>\n",
       "      <th>1</th>\n",
       "      <td>0.34</td>\n",
       "      <td>62.6</td>\n",
       "      <td>4.46</td>\n",
       "      <td>4.49</td>\n",
       "      <td>2.8</td>\n",
       "      <td>565</td>\n",
       "      <td>0</td>\n",
       "      <td>1</td>\n",
       "      <td>0</td>\n",
       "      <td>0</td>\n",
       "      <td>...</td>\n",
       "      <td>0</td>\n",
       "      <td>0</td>\n",
       "      <td>0</td>\n",
       "      <td>0</td>\n",
       "      <td>1</td>\n",
       "      <td>0</td>\n",
       "      <td>0</td>\n",
       "      <td>0</td>\n",
       "      <td>0</td>\n",
       "      <td>0</td>\n",
       "    </tr>\n",
       "  </tbody>\n",
       "</table>\n",
       "<p>2 rows × 23 columns</p>\n",
       "</div>"
      ],
      "text/plain": [
       "   carat  depth     x     y    z  price  cut_Good  cut_Ideal  cut_Premium  \\\n",
       "0   0.30   62.8  4.29  4.31  2.7    605         0          0            0   \n",
       "1   0.34   62.6  4.46  4.49  2.8    565         0          1            0   \n",
       "\n",
       "   cut_Very Good  ...  color_H  color_I  color_J  clarity_IF  clarity_SI1  \\\n",
       "0              1  ...        0        0        0           0            0   \n",
       "1              0  ...        0        0        0           0            1   \n",
       "\n",
       "   clarity_SI2  clarity_VS1  clarity_VS2  clarity_VVS1  clarity_VVS2  \n",
       "0            0            0            1             0             0  \n",
       "1            0            0            0             0             0  \n",
       "\n",
       "[2 rows x 23 columns]"
      ]
     },
     "execution_count": 125,
     "metadata": {},
     "output_type": "execute_result"
    }
   ],
   "source": [
    "dtf.head(2)"
   ]
  },
  {
   "cell_type": "code",
   "execution_count": 126,
   "metadata": {},
   "outputs": [],
   "source": [
    "y = dtf[\"price\"]"
   ]
  },
  {
   "cell_type": "code",
   "execution_count": 127,
   "metadata": {},
   "outputs": [],
   "source": [
    "dtf.drop(\"price\",axis=1,inplace=True)\n",
    "X= dtf\n",
    "X1= dtf"
   ]
  },
  {
   "cell_type": "code",
   "execution_count": 128,
   "metadata": {
    "scrolled": false
   },
   "outputs": [
    {
     "data": {
      "text/html": [
       "<div>\n",
       "<style scoped>\n",
       "    .dataframe tbody tr th:only-of-type {\n",
       "        vertical-align: middle;\n",
       "    }\n",
       "\n",
       "    .dataframe tbody tr th {\n",
       "        vertical-align: top;\n",
       "    }\n",
       "\n",
       "    .dataframe thead th {\n",
       "        text-align: right;\n",
       "    }\n",
       "</style>\n",
       "<table border=\"1\" class=\"dataframe\">\n",
       "  <thead>\n",
       "    <tr style=\"text-align: right;\">\n",
       "      <th></th>\n",
       "      <th>carat</th>\n",
       "      <th>depth</th>\n",
       "      <th>x</th>\n",
       "      <th>y</th>\n",
       "      <th>z</th>\n",
       "      <th>cut_Good</th>\n",
       "      <th>cut_Ideal</th>\n",
       "      <th>cut_Premium</th>\n",
       "      <th>cut_Very Good</th>\n",
       "      <th>color_E</th>\n",
       "      <th>...</th>\n",
       "      <th>color_H</th>\n",
       "      <th>color_I</th>\n",
       "      <th>color_J</th>\n",
       "      <th>clarity_IF</th>\n",
       "      <th>clarity_SI1</th>\n",
       "      <th>clarity_SI2</th>\n",
       "      <th>clarity_VS1</th>\n",
       "      <th>clarity_VS2</th>\n",
       "      <th>clarity_VVS1</th>\n",
       "      <th>clarity_VVS2</th>\n",
       "    </tr>\n",
       "  </thead>\n",
       "  <tbody>\n",
       "    <tr>\n",
       "      <th>0</th>\n",
       "      <td>0.3</td>\n",
       "      <td>62.8</td>\n",
       "      <td>4.29</td>\n",
       "      <td>4.31</td>\n",
       "      <td>2.7</td>\n",
       "      <td>0</td>\n",
       "      <td>0</td>\n",
       "      <td>0</td>\n",
       "      <td>1</td>\n",
       "      <td>0</td>\n",
       "      <td>...</td>\n",
       "      <td>0</td>\n",
       "      <td>0</td>\n",
       "      <td>0</td>\n",
       "      <td>0</td>\n",
       "      <td>0</td>\n",
       "      <td>0</td>\n",
       "      <td>0</td>\n",
       "      <td>1</td>\n",
       "      <td>0</td>\n",
       "      <td>0</td>\n",
       "    </tr>\n",
       "  </tbody>\n",
       "</table>\n",
       "<p>1 rows × 22 columns</p>\n",
       "</div>"
      ],
      "text/plain": [
       "   carat  depth     x     y    z  cut_Good  cut_Ideal  cut_Premium  \\\n",
       "0    0.3   62.8  4.29  4.31  2.7         0          0            0   \n",
       "\n",
       "   cut_Very Good  color_E  ...  color_H  color_I  color_J  clarity_IF  \\\n",
       "0              1        0  ...        0        0        0           0   \n",
       "\n",
       "   clarity_SI1  clarity_SI2  clarity_VS1  clarity_VS2  clarity_VVS1  \\\n",
       "0            0            0            0            1             0   \n",
       "\n",
       "   clarity_VVS2  \n",
       "0             0  \n",
       "\n",
       "[1 rows x 22 columns]"
      ]
     },
     "execution_count": 128,
     "metadata": {},
     "output_type": "execute_result"
    }
   ],
   "source": [
    "dtf.head(1)"
   ]
  },
  {
   "cell_type": "code",
   "execution_count": 129,
   "metadata": {},
   "outputs": [],
   "source": [
    "pipeline = [\n",
    "    StandardScaler(),\n",
    "    Normalizer()\n",
    "]\n",
    "tr = make_pipeline(*pipeline)\n",
    "\n",
    "\n",
    "X_ready1 = tr.fit_transform(X1)\n",
    "X_ready1 = pd.DataFrame(X_ready1, columns=X.columns)"
   ]
  },
  {
   "cell_type": "code",
   "execution_count": 130,
   "metadata": {},
   "outputs": [
    {
     "data": {
      "text/html": [
       "<div>\n",
       "<style scoped>\n",
       "    .dataframe tbody tr th:only-of-type {\n",
       "        vertical-align: middle;\n",
       "    }\n",
       "\n",
       "    .dataframe tbody tr th {\n",
       "        vertical-align: top;\n",
       "    }\n",
       "\n",
       "    .dataframe thead th {\n",
       "        text-align: right;\n",
       "    }\n",
       "</style>\n",
       "<table border=\"1\" class=\"dataframe\">\n",
       "  <thead>\n",
       "    <tr style=\"text-align: right;\">\n",
       "      <th></th>\n",
       "      <th>carat</th>\n",
       "      <th>depth</th>\n",
       "      <th>x</th>\n",
       "      <th>y</th>\n",
       "      <th>z</th>\n",
       "      <th>cut_Good</th>\n",
       "      <th>cut_Ideal</th>\n",
       "      <th>cut_Premium</th>\n",
       "      <th>cut_Very Good</th>\n",
       "      <th>color_E</th>\n",
       "      <th>...</th>\n",
       "      <th>color_H</th>\n",
       "      <th>color_I</th>\n",
       "      <th>color_J</th>\n",
       "      <th>clarity_IF</th>\n",
       "      <th>clarity_SI1</th>\n",
       "      <th>clarity_SI2</th>\n",
       "      <th>clarity_VS1</th>\n",
       "      <th>clarity_VS2</th>\n",
       "      <th>clarity_VVS1</th>\n",
       "      <th>clarity_VVS2</th>\n",
       "    </tr>\n",
       "  </thead>\n",
       "  <tbody>\n",
       "    <tr>\n",
       "      <th>0</th>\n",
       "      <td>-0.235075</td>\n",
       "      <td>0.164846</td>\n",
       "      <td>-0.287874</td>\n",
       "      <td>-0.286186</td>\n",
       "      <td>-0.271569</td>\n",
       "      <td>-0.070095</td>\n",
       "      <td>-0.175793</td>\n",
       "      <td>-0.129431</td>\n",
       "      <td>0.402477</td>\n",
       "      <td>-0.104636</td>\n",
       "      <td>...</td>\n",
       "      <td>-0.093278</td>\n",
       "      <td>-0.073791</td>\n",
       "      <td>-0.051657</td>\n",
       "      <td>0.0</td>\n",
       "      <td>-0.126966</td>\n",
       "      <td>-0.100883</td>\n",
       "      <td>-0.094765</td>\n",
       "      <td>0.394863</td>\n",
       "      <td>-0.060676</td>\n",
       "      <td>-0.071800</td>\n",
       "    </tr>\n",
       "    <tr>\n",
       "      <th>1</th>\n",
       "      <td>-0.242448</td>\n",
       "      <td>0.149463</td>\n",
       "      <td>-0.284973</td>\n",
       "      <td>-0.280603</td>\n",
       "      <td>-0.268495</td>\n",
       "      <td>-0.078501</td>\n",
       "      <td>0.306337</td>\n",
       "      <td>-0.144953</td>\n",
       "      <td>-0.133801</td>\n",
       "      <td>0.514660</td>\n",
       "      <td>...</td>\n",
       "      <td>-0.104465</td>\n",
       "      <td>-0.082641</td>\n",
       "      <td>-0.057852</td>\n",
       "      <td>0.0</td>\n",
       "      <td>0.424142</td>\n",
       "      <td>-0.112982</td>\n",
       "      <td>-0.106130</td>\n",
       "      <td>-0.136381</td>\n",
       "      <td>-0.067952</td>\n",
       "      <td>-0.080411</td>\n",
       "    </tr>\n",
       "    <tr>\n",
       "      <th>2</th>\n",
       "      <td>-0.230206</td>\n",
       "      <td>-0.277685</td>\n",
       "      <td>-0.253006</td>\n",
       "      <td>-0.243005</td>\n",
       "      <td>-0.273207</td>\n",
       "      <td>-0.085557</td>\n",
       "      <td>-0.214572</td>\n",
       "      <td>-0.157983</td>\n",
       "      <td>0.491261</td>\n",
       "      <td>-0.127718</td>\n",
       "      <td>...</td>\n",
       "      <td>-0.113855</td>\n",
       "      <td>-0.090069</td>\n",
       "      <td>-0.063052</td>\n",
       "      <td>0.0</td>\n",
       "      <td>0.462268</td>\n",
       "      <td>-0.123138</td>\n",
       "      <td>-0.115670</td>\n",
       "      <td>-0.148640</td>\n",
       "      <td>-0.074060</td>\n",
       "      <td>-0.087639</td>\n",
       "    </tr>\n",
       "    <tr>\n",
       "      <th>3</th>\n",
       "      <td>-0.192391</td>\n",
       "      <td>0.008067</td>\n",
       "      <td>-0.207436</td>\n",
       "      <td>-0.205107</td>\n",
       "      <td>-0.205604</td>\n",
       "      <td>-0.071503</td>\n",
       "      <td>-0.179325</td>\n",
       "      <td>0.378978</td>\n",
       "      <td>-0.121874</td>\n",
       "      <td>-0.106738</td>\n",
       "      <td>...</td>\n",
       "      <td>0.525861</td>\n",
       "      <td>-0.075274</td>\n",
       "      <td>-0.052695</td>\n",
       "      <td>0.0</td>\n",
       "      <td>-0.129518</td>\n",
       "      <td>-0.102911</td>\n",
       "      <td>0.517610</td>\n",
       "      <td>-0.124224</td>\n",
       "      <td>-0.061895</td>\n",
       "      <td>-0.073243</td>\n",
       "    </tr>\n",
       "    <tr>\n",
       "      <th>4</th>\n",
       "      <td>0.063154</td>\n",
       "      <td>-0.169768</td>\n",
       "      <td>0.098002</td>\n",
       "      <td>0.106911</td>\n",
       "      <td>0.081145</td>\n",
       "      <td>-0.101153</td>\n",
       "      <td>-0.253683</td>\n",
       "      <td>-0.186779</td>\n",
       "      <td>0.580806</td>\n",
       "      <td>-0.150998</td>\n",
       "      <td>...</td>\n",
       "      <td>-0.134608</td>\n",
       "      <td>-0.106487</td>\n",
       "      <td>-0.074545</td>\n",
       "      <td>0.0</td>\n",
       "      <td>0.546528</td>\n",
       "      <td>-0.145583</td>\n",
       "      <td>-0.136754</td>\n",
       "      <td>-0.175734</td>\n",
       "      <td>-0.087560</td>\n",
       "      <td>-0.103613</td>\n",
       "    </tr>\n",
       "    <tr>\n",
       "      <th>...</th>\n",
       "      <td>...</td>\n",
       "      <td>...</td>\n",
       "      <td>...</td>\n",
       "      <td>...</td>\n",
       "      <td>...</td>\n",
       "      <td>...</td>\n",
       "      <td>...</td>\n",
       "      <td>...</td>\n",
       "      <td>...</td>\n",
       "      <td>...</td>\n",
       "      <td>...</td>\n",
       "      <td>...</td>\n",
       "      <td>...</td>\n",
       "      <td>...</td>\n",
       "      <td>...</td>\n",
       "      <td>...</td>\n",
       "      <td>...</td>\n",
       "      <td>...</td>\n",
       "      <td>...</td>\n",
       "      <td>...</td>\n",
       "      <td>...</td>\n",
       "    </tr>\n",
       "    <tr>\n",
       "      <th>39043</th>\n",
       "      <td>-0.264233</td>\n",
       "      <td>-0.045846</td>\n",
       "      <td>-0.309297</td>\n",
       "      <td>-0.307128</td>\n",
       "      <td>-0.310372</td>\n",
       "      <td>-0.082033</td>\n",
       "      <td>0.320120</td>\n",
       "      <td>-0.151475</td>\n",
       "      <td>-0.139821</td>\n",
       "      <td>-0.122457</td>\n",
       "      <td>...</td>\n",
       "      <td>-0.109165</td>\n",
       "      <td>-0.086359</td>\n",
       "      <td>-0.060455</td>\n",
       "      <td>0.0</td>\n",
       "      <td>-0.148590</td>\n",
       "      <td>-0.118065</td>\n",
       "      <td>0.593833</td>\n",
       "      <td>-0.142517</td>\n",
       "      <td>-0.071009</td>\n",
       "      <td>-0.084029</td>\n",
       "    </tr>\n",
       "    <tr>\n",
       "      <th>39044</th>\n",
       "      <td>-0.285991</td>\n",
       "      <td>-0.162217</td>\n",
       "      <td>-0.343051</td>\n",
       "      <td>-0.338540</td>\n",
       "      <td>-0.353621</td>\n",
       "      <td>-0.085277</td>\n",
       "      <td>0.332780</td>\n",
       "      <td>-0.157465</td>\n",
       "      <td>-0.145351</td>\n",
       "      <td>-0.127299</td>\n",
       "      <td>...</td>\n",
       "      <td>-0.113482</td>\n",
       "      <td>-0.089774</td>\n",
       "      <td>-0.062846</td>\n",
       "      <td>0.0</td>\n",
       "      <td>-0.154467</td>\n",
       "      <td>-0.122734</td>\n",
       "      <td>-0.115291</td>\n",
       "      <td>0.480388</td>\n",
       "      <td>-0.073818</td>\n",
       "      <td>-0.087352</td>\n",
       "    </tr>\n",
       "    <tr>\n",
       "      <th>39045</th>\n",
       "      <td>-0.184859</td>\n",
       "      <td>0.176664</td>\n",
       "      <td>-0.182653</td>\n",
       "      <td>-0.179539</td>\n",
       "      <td>-0.163341</td>\n",
       "      <td>-0.083024</td>\n",
       "      <td>-0.208219</td>\n",
       "      <td>0.440041</td>\n",
       "      <td>-0.141511</td>\n",
       "      <td>-0.123937</td>\n",
       "      <td>...</td>\n",
       "      <td>-0.110484</td>\n",
       "      <td>-0.087403</td>\n",
       "      <td>-0.061185</td>\n",
       "      <td>0.0</td>\n",
       "      <td>0.448582</td>\n",
       "      <td>-0.119492</td>\n",
       "      <td>-0.112245</td>\n",
       "      <td>-0.144240</td>\n",
       "      <td>-0.071868</td>\n",
       "      <td>-0.085044</td>\n",
       "    </tr>\n",
       "    <tr>\n",
       "      <th>39046</th>\n",
       "      <td>-0.172803</td>\n",
       "      <td>0.251692</td>\n",
       "      <td>-0.193520</td>\n",
       "      <td>-0.191479</td>\n",
       "      <td>-0.167175</td>\n",
       "      <td>0.628536</td>\n",
       "      <td>-0.161067</td>\n",
       "      <td>-0.118589</td>\n",
       "      <td>-0.109465</td>\n",
       "      <td>-0.095871</td>\n",
       "      <td>...</td>\n",
       "      <td>-0.085465</td>\n",
       "      <td>-0.067610</td>\n",
       "      <td>-0.047330</td>\n",
       "      <td>0.0</td>\n",
       "      <td>-0.116331</td>\n",
       "      <td>-0.092433</td>\n",
       "      <td>-0.086827</td>\n",
       "      <td>0.361786</td>\n",
       "      <td>-0.055593</td>\n",
       "      <td>-0.065786</td>\n",
       "    </tr>\n",
       "    <tr>\n",
       "      <th>39047</th>\n",
       "      <td>0.429379</td>\n",
       "      <td>0.065729</td>\n",
       "      <td>0.331391</td>\n",
       "      <td>0.344084</td>\n",
       "      <td>0.347932</td>\n",
       "      <td>-0.053339</td>\n",
       "      <td>-0.133771</td>\n",
       "      <td>-0.098492</td>\n",
       "      <td>0.306268</td>\n",
       "      <td>-0.079624</td>\n",
       "      <td>...</td>\n",
       "      <td>0.392276</td>\n",
       "      <td>-0.056152</td>\n",
       "      <td>-0.039309</td>\n",
       "      <td>0.0</td>\n",
       "      <td>-0.096616</td>\n",
       "      <td>0.362705</td>\n",
       "      <td>-0.072112</td>\n",
       "      <td>-0.092667</td>\n",
       "      <td>-0.046172</td>\n",
       "      <td>-0.054637</td>\n",
       "    </tr>\n",
       "  </tbody>\n",
       "</table>\n",
       "<p>39048 rows × 22 columns</p>\n",
       "</div>"
      ],
      "text/plain": [
       "          carat     depth         x         y         z  cut_Good  cut_Ideal  \\\n",
       "0     -0.235075  0.164846 -0.287874 -0.286186 -0.271569 -0.070095  -0.175793   \n",
       "1     -0.242448  0.149463 -0.284973 -0.280603 -0.268495 -0.078501   0.306337   \n",
       "2     -0.230206 -0.277685 -0.253006 -0.243005 -0.273207 -0.085557  -0.214572   \n",
       "3     -0.192391  0.008067 -0.207436 -0.205107 -0.205604 -0.071503  -0.179325   \n",
       "4      0.063154 -0.169768  0.098002  0.106911  0.081145 -0.101153  -0.253683   \n",
       "...         ...       ...       ...       ...       ...       ...        ...   \n",
       "39043 -0.264233 -0.045846 -0.309297 -0.307128 -0.310372 -0.082033   0.320120   \n",
       "39044 -0.285991 -0.162217 -0.343051 -0.338540 -0.353621 -0.085277   0.332780   \n",
       "39045 -0.184859  0.176664 -0.182653 -0.179539 -0.163341 -0.083024  -0.208219   \n",
       "39046 -0.172803  0.251692 -0.193520 -0.191479 -0.167175  0.628536  -0.161067   \n",
       "39047  0.429379  0.065729  0.331391  0.344084  0.347932 -0.053339  -0.133771   \n",
       "\n",
       "       cut_Premium  cut_Very Good   color_E  ...   color_H   color_I  \\\n",
       "0        -0.129431       0.402477 -0.104636  ... -0.093278 -0.073791   \n",
       "1        -0.144953      -0.133801  0.514660  ... -0.104465 -0.082641   \n",
       "2        -0.157983       0.491261 -0.127718  ... -0.113855 -0.090069   \n",
       "3         0.378978      -0.121874 -0.106738  ...  0.525861 -0.075274   \n",
       "4        -0.186779       0.580806 -0.150998  ... -0.134608 -0.106487   \n",
       "...            ...            ...       ...  ...       ...       ...   \n",
       "39043    -0.151475      -0.139821 -0.122457  ... -0.109165 -0.086359   \n",
       "39044    -0.157465      -0.145351 -0.127299  ... -0.113482 -0.089774   \n",
       "39045     0.440041      -0.141511 -0.123937  ... -0.110484 -0.087403   \n",
       "39046    -0.118589      -0.109465 -0.095871  ... -0.085465 -0.067610   \n",
       "39047    -0.098492       0.306268 -0.079624  ...  0.392276 -0.056152   \n",
       "\n",
       "        color_J  clarity_IF  clarity_SI1  clarity_SI2  clarity_VS1  \\\n",
       "0     -0.051657         0.0    -0.126966    -0.100883    -0.094765   \n",
       "1     -0.057852         0.0     0.424142    -0.112982    -0.106130   \n",
       "2     -0.063052         0.0     0.462268    -0.123138    -0.115670   \n",
       "3     -0.052695         0.0    -0.129518    -0.102911     0.517610   \n",
       "4     -0.074545         0.0     0.546528    -0.145583    -0.136754   \n",
       "...         ...         ...          ...          ...          ...   \n",
       "39043 -0.060455         0.0    -0.148590    -0.118065     0.593833   \n",
       "39044 -0.062846         0.0    -0.154467    -0.122734    -0.115291   \n",
       "39045 -0.061185         0.0     0.448582    -0.119492    -0.112245   \n",
       "39046 -0.047330         0.0    -0.116331    -0.092433    -0.086827   \n",
       "39047 -0.039309         0.0    -0.096616     0.362705    -0.072112   \n",
       "\n",
       "       clarity_VS2  clarity_VVS1  clarity_VVS2  \n",
       "0         0.394863     -0.060676     -0.071800  \n",
       "1        -0.136381     -0.067952     -0.080411  \n",
       "2        -0.148640     -0.074060     -0.087639  \n",
       "3        -0.124224     -0.061895     -0.073243  \n",
       "4        -0.175734     -0.087560     -0.103613  \n",
       "...            ...           ...           ...  \n",
       "39043    -0.142517     -0.071009     -0.084029  \n",
       "39044     0.480388     -0.073818     -0.087352  \n",
       "39045    -0.144240     -0.071868     -0.085044  \n",
       "39046     0.361786     -0.055593     -0.065786  \n",
       "39047    -0.092667     -0.046172     -0.054637  \n",
       "\n",
       "[39048 rows x 22 columns]"
      ]
     },
     "execution_count": 130,
     "metadata": {},
     "output_type": "execute_result"
    }
   ],
   "source": [
    "X_ready1"
   ]
  },
  {
   "cell_type": "code",
   "execution_count": 131,
   "metadata": {},
   "outputs": [],
   "source": [
    "#Estandarizamos los datos prediction."
   ]
  },
  {
   "cell_type": "markdown",
   "metadata": {},
   "source": [
    "# KNeighborsRegressor"
   ]
  },
  {
   "cell_type": "markdown",
   "metadata": {},
   "source": [
    "Datos estandarizados"
   ]
  },
  {
   "cell_type": "code",
   "execution_count": 146,
   "metadata": {},
   "outputs": [],
   "source": [
    "X_train1, X_test1, y_train1, y_test1 = train_test_split(X_ready1, y, test_size=0.2, random_state=0)"
   ]
  },
  {
   "cell_type": "code",
   "execution_count": 147,
   "metadata": {},
   "outputs": [
    {
     "data": {
      "text/plain": [
       "KNeighborsRegressor(n_neighbors=2)"
      ]
     },
     "execution_count": 147,
     "metadata": {},
     "output_type": "execute_result"
    }
   ],
   "source": [
    "neigh1 = KNeighborsRegressor(n_neighbors=2)\n",
    "neigh1.fit(X_train1, y_train1)"
   ]
  },
  {
   "cell_type": "code",
   "execution_count": 230,
   "metadata": {},
   "outputs": [
    {
     "name": "stdout",
     "output_type": "stream",
     "text": [
      "21756476.84046095\n",
      "-0.39417554648662323\n",
      "-0.39290253522282814\n",
      "4664.383865041657\n"
     ]
    }
   ],
   "source": [
    "y_pred_neigh1 = neigh.predict(X_test1)\n",
    "print(mean_squared_error(y_test1, y_pred_neigh1))\n",
    "print(neigh.score(X_train1, y_train1))\n",
    "print(neigh.score(X_test1, y_test1))\n",
    "print(math.sqrt(mean_squared_error(y_test1,y_pred_neigh1)))"
   ]
  },
  {
   "cell_type": "markdown",
   "metadata": {},
   "source": [
    "# KNeighborsRegressor"
   ]
  },
  {
   "cell_type": "markdown",
   "metadata": {},
   "source": [
    "Datos sin estandarizar"
   ]
  },
  {
   "cell_type": "code",
   "execution_count": 149,
   "metadata": {},
   "outputs": [],
   "source": [
    "X_train, X_test, y_train, y_test = train_test_split(X, y, test_size=0.2, random_state=0)"
   ]
  },
  {
   "cell_type": "code",
   "execution_count": 150,
   "metadata": {},
   "outputs": [
    {
     "data": {
      "text/plain": [
       "KNeighborsRegressor(n_neighbors=2)"
      ]
     },
     "execution_count": 150,
     "metadata": {},
     "output_type": "execute_result"
    }
   ],
   "source": [
    "neigh = KNeighborsRegressor(n_neighbors=2)\n",
    "neigh.fit(X_train, y_train)"
   ]
  },
  {
   "cell_type": "code",
   "execution_count": 228,
   "metadata": {},
   "outputs": [
    {
     "name": "stdout",
     "output_type": "stream",
     "text": [
      "753843.7055057619\n",
      "0.9861500727420377\n",
      "0.9517370934521906\n",
      "868.2417321839362\n"
     ]
    }
   ],
   "source": [
    "y_pred_neigh = neigh.predict(X_test)\n",
    "print(mean_squared_error(y_test, y_pred_neigh))\n",
    "print(neigh.score(X_train, y_train))\n",
    "print(neigh.score(X_test, y_test))\n",
    "print(math.sqrt(mean_squared_error(y_test,y_pred_neigh)))"
   ]
  },
  {
   "cell_type": "markdown",
   "metadata": {},
   "source": [
    "# MLPRegressor"
   ]
  },
  {
   "cell_type": "markdown",
   "metadata": {},
   "source": [
    "MLPRegressor con datos normalizados y estandarizados."
   ]
  },
  {
   "cell_type": "code",
   "execution_count": 153,
   "metadata": {},
   "outputs": [
    {
     "name": "stderr",
     "output_type": "stream",
     "text": [
      "/Library/Frameworks/Python.framework/Versions/3.8/lib/python3.8/site-packages/sklearn/neural_network/_multilayer_perceptron.py:582: ConvergenceWarning: Stochastic Optimizer: Maximum iterations (500) reached and the optimization hasn't converged yet.\n",
      "  warnings.warn(\n"
     ]
    }
   ],
   "source": [
    "regr1 = MLPRegressor(max_iter=500).fit(X_train1, y_train1)"
   ]
  },
  {
   "cell_type": "code",
   "execution_count": 226,
   "metadata": {},
   "outputs": [],
   "source": [
    "y_pred_regr1 = regr1.predict(X_test1)"
   ]
  },
  {
   "cell_type": "code",
   "execution_count": 227,
   "metadata": {},
   "outputs": [
    {
     "name": "stdout",
     "output_type": "stream",
     "text": [
      "408242.8308359119\n",
      "0.9752592893483636\n",
      "0.9738633015709433\n",
      "638.9388318422288\n"
     ]
    }
   ],
   "source": [
    "print(mean_squared_error(y_test1, y_pred_regr1))\n",
    "print(regr1.score(X_train1, y_train1))\n",
    "print(regr1.score(X_test1, y_test1))\n",
    "print(math.sqrt(mean_squared_error(y_test1,y_pred_regr1)))"
   ]
  },
  {
   "cell_type": "markdown",
   "metadata": {},
   "source": [
    "# MLPRegressor"
   ]
  },
  {
   "cell_type": "markdown",
   "metadata": {},
   "source": [
    "MLPRegressor con datos sin  normalizar o estandarizar."
   ]
  },
  {
   "cell_type": "code",
   "execution_count": 183,
   "metadata": {},
   "outputs": [
    {
     "name": "stderr",
     "output_type": "stream",
     "text": [
      "/Library/Frameworks/Python.framework/Versions/3.8/lib/python3.8/site-packages/sklearn/neural_network/_multilayer_perceptron.py:582: ConvergenceWarning: Stochastic Optimizer: Maximum iterations (500) reached and the optimization hasn't converged yet.\n",
      "  warnings.warn(\n"
     ]
    }
   ],
   "source": [
    "regr = MLPRegressor(max_iter=500).fit(X_train, y_train)"
   ]
  },
  {
   "cell_type": "code",
   "execution_count": 224,
   "metadata": {},
   "outputs": [],
   "source": [
    "y_pred_regr = regr.predict(X_test)"
   ]
  },
  {
   "cell_type": "code",
   "execution_count": 225,
   "metadata": {},
   "outputs": [
    {
     "name": "stdout",
     "output_type": "stream",
     "text": [
      "806438.7889372696\n",
      "0.9505790470712178\n",
      "0.9483698283573311\n",
      "898.0193700234253\n"
     ]
    }
   ],
   "source": [
    "print(mean_squared_error(y_test, y_pred_regr))\n",
    "print(regr.score(X_train, y_train))\n",
    "print(regr.score(X_test, y_test))\n",
    "print(math.sqrt(mean_squared_error(y_test,y_pred_regr)))"
   ]
  },
  {
   "cell_type": "markdown",
   "metadata": {},
   "source": [
    "# LinearRegression"
   ]
  },
  {
   "cell_type": "markdown",
   "metadata": {},
   "source": [
    "Datos Normalizados y estandarizados."
   ]
  },
  {
   "cell_type": "code",
   "execution_count": 186,
   "metadata": {},
   "outputs": [],
   "source": [
    "linear1 = LinearRegression().fit(X_train1, y_train1)"
   ]
  },
  {
   "cell_type": "code",
   "execution_count": 222,
   "metadata": {},
   "outputs": [],
   "source": [
    "y_pred_linear1 = linear1.predict(X_test1)"
   ]
  },
  {
   "cell_type": "code",
   "execution_count": 223,
   "metadata": {},
   "outputs": [
    {
     "name": "stdout",
     "output_type": "stream",
     "text": [
      "1321987.6232353484\n",
      "0.9188674970429572\n",
      "0.915363138736083\n",
      "1149.777205912236\n"
     ]
    }
   ],
   "source": [
    "print(mean_squared_error(y_test1, y_pred_linear1))\n",
    "print(linear1.score(X_train1, y_train1))\n",
    "print(linear1.score(X_test1, y_test1))\n",
    "print(math.sqrt(mean_squared_error(y_test1,y_pred_linear1)))"
   ]
  },
  {
   "cell_type": "markdown",
   "metadata": {},
   "source": [
    "# LinearRegression"
   ]
  },
  {
   "cell_type": "markdown",
   "metadata": {},
   "source": [
    "Datos sin estandarizar o normalizar"
   ]
  },
  {
   "cell_type": "code",
   "execution_count": 178,
   "metadata": {},
   "outputs": [],
   "source": [
    "linear = LinearRegression().fit(X_train, y_train)"
   ]
  },
  {
   "cell_type": "code",
   "execution_count": 217,
   "metadata": {},
   "outputs": [],
   "source": [
    "y_pred_linear = linear.predict(X_test)"
   ]
  },
  {
   "cell_type": "code",
   "execution_count": 218,
   "metadata": {
    "scrolled": true
   },
   "outputs": [
    {
     "name": "stdout",
     "output_type": "stream",
     "text": [
      "422704.9012980017\n",
      "0.9966147580325568\n",
      "0.972937404664062\n",
      "650.157597277769\n"
     ]
    }
   ],
   "source": [
    "print(mean_squared_error(y_test, y_pred_linear))\n",
    "print(linear.score(X_train, y_train))\n",
    "print(linear.score(X_test, y_test))\n",
    "print(math.sqrt(mean_squared_error(y_test,y_pred_linear)))"
   ]
  },
  {
   "cell_type": "markdown",
   "metadata": {},
   "source": [
    "# RandomForestRegresor"
   ]
  },
  {
   "cell_type": "markdown",
   "metadata": {},
   "source": [
    "Datos sin estandarizar o normalizar"
   ]
  },
  {
   "cell_type": "code",
   "execution_count": 205,
   "metadata": {},
   "outputs": [],
   "source": [
    "Random = RandomForestRegressor(n_estimators=900).fit(X_train, y_train)"
   ]
  },
  {
   "cell_type": "code",
   "execution_count": 206,
   "metadata": {},
   "outputs": [],
   "source": [
    "y_pred = Random.predict(X_test)"
   ]
  },
  {
   "cell_type": "code",
   "execution_count": 207,
   "metadata": {},
   "outputs": [
    {
     "name": "stdout",
     "output_type": "stream",
     "text": [
      "423378.47659062466\n",
      "0.9966116893543907\n",
      "0.9728942807364317\n"
     ]
    }
   ],
   "source": [
    "print(mean_squared_error(y_test, y_pred))\n",
    "print(Random.score(X_train, y_train))\n",
    "print(Random.score(X_test, y_test))"
   ]
  },
  {
   "cell_type": "code",
   "execution_count": 215,
   "metadata": {},
   "outputs": [
    {
     "name": "stdout",
     "output_type": "stream",
     "text": [
      "650.6754003269408\n"
     ]
    }
   ],
   "source": [
    "print(math.sqrt(mean_squared_error(y_test,y_pred)))"
   ]
  },
  {
   "cell_type": "markdown",
   "metadata": {},
   "source": [
    "\n",
    "# RandomForestRegresor"
   ]
  },
  {
   "cell_type": "markdown",
   "metadata": {},
   "source": [
    "Datos estandarizados "
   ]
  },
  {
   "cell_type": "code",
   "execution_count": 208,
   "metadata": {},
   "outputs": [],
   "source": [
    "Random1 = RandomForestRegressor(n_estimators=900).fit(X_train1, y_train1)"
   ]
  },
  {
   "cell_type": "code",
   "execution_count": 209,
   "metadata": {},
   "outputs": [],
   "source": [
    "y_pred1 = Random1.predict(X_test1)"
   ]
  },
  {
   "cell_type": "code",
   "execution_count": 210,
   "metadata": {},
   "outputs": [
    {
     "name": "stdout",
     "output_type": "stream",
     "text": [
      "403395.96840584837\n",
      "0.9965439641296701\n",
      "0.9741736094859709\n"
     ]
    }
   ],
   "source": [
    "print(mean_squared_error(y_test1, y_pred1))\n",
    "print(Random.score(X_train1, y_train1))\n",
    "print(Random.score(X_test1, y_test1))"
   ]
  },
  {
   "cell_type": "code",
   "execution_count": 214,
   "metadata": {
    "scrolled": true
   },
   "outputs": [
    {
     "name": "stdout",
     "output_type": "stream",
     "text": [
      "635.1346065251431\n"
     ]
    }
   ],
   "source": [
    "print(math.sqrt(mean_squared_error(y_test1,y_pred1)))"
   ]
  },
  {
   "cell_type": "code",
   "execution_count": null,
   "metadata": {},
   "outputs": [],
   "source": []
  },
  {
   "cell_type": "markdown",
   "metadata": {},
   "source": [
    "introducimos nuestro dataset limpio"
   ]
  },
  {
   "cell_type": "code",
   "execution_count": 232,
   "metadata": {},
   "outputs": [],
   "source": [
    "predict= pd.read_csv('../Data/diamonds_output/predict_submit.csv')"
   ]
  },
  {
   "cell_type": "code",
   "execution_count": 234,
   "metadata": {
    "scrolled": true
   },
   "outputs": [
    {
     "data": {
      "text/html": [
       "<div>\n",
       "<style scoped>\n",
       "    .dataframe tbody tr th:only-of-type {\n",
       "        vertical-align: middle;\n",
       "    }\n",
       "\n",
       "    .dataframe tbody tr th {\n",
       "        vertical-align: top;\n",
       "    }\n",
       "\n",
       "    .dataframe thead th {\n",
       "        text-align: right;\n",
       "    }\n",
       "</style>\n",
       "<table border=\"1\" class=\"dataframe\">\n",
       "  <thead>\n",
       "    <tr style=\"text-align: right;\">\n",
       "      <th></th>\n",
       "      <th>carat</th>\n",
       "      <th>depth</th>\n",
       "      <th>x</th>\n",
       "      <th>y</th>\n",
       "      <th>z</th>\n",
       "      <th>cut_Good</th>\n",
       "      <th>cut_Ideal</th>\n",
       "      <th>cut_Premium</th>\n",
       "      <th>cut_Very Good</th>\n",
       "      <th>color_E</th>\n",
       "      <th>...</th>\n",
       "      <th>color_H</th>\n",
       "      <th>color_I</th>\n",
       "      <th>color_J</th>\n",
       "      <th>clarity_IF</th>\n",
       "      <th>clarity_SI1</th>\n",
       "      <th>clarity_SI2</th>\n",
       "      <th>clarity_VS1</th>\n",
       "      <th>clarity_VS2</th>\n",
       "      <th>clarity_VVS1</th>\n",
       "      <th>clarity_VVS2</th>\n",
       "    </tr>\n",
       "  </thead>\n",
       "  <tbody>\n",
       "    <tr>\n",
       "      <th>0</th>\n",
       "      <td>2.36</td>\n",
       "      <td>60.8</td>\n",
       "      <td>8.68</td>\n",
       "      <td>8.57</td>\n",
       "      <td>5.24</td>\n",
       "      <td>0</td>\n",
       "      <td>1</td>\n",
       "      <td>0</td>\n",
       "      <td>0</td>\n",
       "      <td>0</td>\n",
       "      <td>...</td>\n",
       "      <td>0</td>\n",
       "      <td>1</td>\n",
       "      <td>0</td>\n",
       "      <td>0</td>\n",
       "      <td>0</td>\n",
       "      <td>1</td>\n",
       "      <td>0</td>\n",
       "      <td>0</td>\n",
       "      <td>0</td>\n",
       "      <td>0</td>\n",
       "    </tr>\n",
       "  </tbody>\n",
       "</table>\n",
       "<p>1 rows × 22 columns</p>\n",
       "</div>"
      ],
      "text/plain": [
       "   carat  depth     x     y     z  cut_Good  cut_Ideal  cut_Premium  \\\n",
       "0   2.36   60.8  8.68  8.57  5.24         0          1            0   \n",
       "\n",
       "   cut_Very Good  color_E  ...  color_H  color_I  color_J  clarity_IF  \\\n",
       "0              0        0  ...        0        1        0           0   \n",
       "\n",
       "   clarity_SI1  clarity_SI2  clarity_VS1  clarity_VS2  clarity_VVS1  \\\n",
       "0            0            1            0            0             0   \n",
       "\n",
       "   clarity_VVS2  \n",
       "0             0  \n",
       "\n",
       "[1 rows x 22 columns]"
      ]
     },
     "execution_count": 234,
     "metadata": {},
     "output_type": "execute_result"
    }
   ],
   "source": [
    "predict.head(1)"
   ]
  },
  {
   "cell_type": "markdown",
   "metadata": {},
   "source": [
    "Normalizamos los datos para aplicarlos sobre los modelos entrenados con datos normalizados."
   ]
  },
  {
   "cell_type": "code",
   "execution_count": 237,
   "metadata": {},
   "outputs": [],
   "source": [
    "predict_ready = tr.fit_transform(predict)\n",
    "predict_ready = pd.DataFrame(predict_ready, columns=predict.columns)"
   ]
  },
  {
   "cell_type": "code",
   "execution_count": 238,
   "metadata": {},
   "outputs": [
    {
     "data": {
      "text/html": [
       "<div>\n",
       "<style scoped>\n",
       "    .dataframe tbody tr th:only-of-type {\n",
       "        vertical-align: middle;\n",
       "    }\n",
       "\n",
       "    .dataframe tbody tr th {\n",
       "        vertical-align: top;\n",
       "    }\n",
       "\n",
       "    .dataframe thead th {\n",
       "        text-align: right;\n",
       "    }\n",
       "</style>\n",
       "<table border=\"1\" class=\"dataframe\">\n",
       "  <thead>\n",
       "    <tr style=\"text-align: right;\">\n",
       "      <th></th>\n",
       "      <th>carat</th>\n",
       "      <th>depth</th>\n",
       "      <th>x</th>\n",
       "      <th>y</th>\n",
       "      <th>z</th>\n",
       "      <th>cut_Good</th>\n",
       "      <th>cut_Ideal</th>\n",
       "      <th>cut_Premium</th>\n",
       "      <th>cut_Very Good</th>\n",
       "      <th>color_E</th>\n",
       "      <th>...</th>\n",
       "      <th>color_H</th>\n",
       "      <th>color_I</th>\n",
       "      <th>color_J</th>\n",
       "      <th>clarity_IF</th>\n",
       "      <th>clarity_SI1</th>\n",
       "      <th>clarity_SI2</th>\n",
       "      <th>clarity_VS1</th>\n",
       "      <th>clarity_VS2</th>\n",
       "      <th>clarity_VVS1</th>\n",
       "      <th>clarity_VVS2</th>\n",
       "    </tr>\n",
       "  </thead>\n",
       "  <tbody>\n",
       "    <tr>\n",
       "      <th>0</th>\n",
       "      <td>0.469414</td>\n",
       "      <td>-0.095739</td>\n",
       "      <td>0.376555</td>\n",
       "      <td>0.364926</td>\n",
       "      <td>0.351554</td>\n",
       "      <td>-0.04552</td>\n",
       "      <td>0.176465</td>\n",
       "      <td>-0.08538</td>\n",
       "      <td>-0.075801</td>\n",
       "      <td>-0.067229</td>\n",
       "      <td>...</td>\n",
       "      <td>-0.061273</td>\n",
       "      <td>0.433644</td>\n",
       "      <td>-0.033747</td>\n",
       "      <td>-0.027123</td>\n",
       "      <td>-0.080999</td>\n",
       "      <td>0.312764</td>\n",
       "      <td>-0.060328</td>\n",
       "      <td>-0.077532</td>\n",
       "      <td>-0.037849</td>\n",
       "      <td>-0.046571</td>\n",
       "    </tr>\n",
       "  </tbody>\n",
       "</table>\n",
       "<p>1 rows × 22 columns</p>\n",
       "</div>"
      ],
      "text/plain": [
       "      carat     depth         x         y         z  cut_Good  cut_Ideal  \\\n",
       "0  0.469414 -0.095739  0.376555  0.364926  0.351554  -0.04552   0.176465   \n",
       "\n",
       "   cut_Premium  cut_Very Good   color_E  ...   color_H   color_I   color_J  \\\n",
       "0     -0.08538      -0.075801 -0.067229  ... -0.061273  0.433644 -0.033747   \n",
       "\n",
       "   clarity_IF  clarity_SI1  clarity_SI2  clarity_VS1  clarity_VS2  \\\n",
       "0   -0.027123    -0.080999     0.312764    -0.060328    -0.077532   \n",
       "\n",
       "   clarity_VVS1  clarity_VVS2  \n",
       "0     -0.037849     -0.046571  \n",
       "\n",
       "[1 rows x 22 columns]"
      ]
     },
     "execution_count": 238,
     "metadata": {},
     "output_type": "execute_result"
    }
   ],
   "source": [
    "predict_ready.head(1)"
   ]
  },
  {
   "cell_type": "markdown",
   "metadata": {},
   "source": [
    "Normalizamos los datos para aplicarlos sobre los modelos entrenados con datos normalizados."
   ]
  },
  {
   "cell_type": "markdown",
   "metadata": {},
   "source": [
    "Lanzamos el primer predict para el modelo de random forest con datos normalizados y estandarizados. "
   ]
  },
  {
   "cell_type": "code",
   "execution_count": 239,
   "metadata": {},
   "outputs": [],
   "source": [
    "prediccion_Random1 = Random.predict(predict_ready)"
   ]
  },
  {
   "cell_type": "code",
   "execution_count": 241,
   "metadata": {},
   "outputs": [],
   "source": [
    "df_prediccion_Random1 = pd.DataFrame(prediccion_Random1)"
   ]
  },
  {
   "cell_type": "code",
   "execution_count": 242,
   "metadata": {},
   "outputs": [],
   "source": [
    "df_prediccion_Random1.rename(columns={0: 'price'}, inplace=True)"
   ]
  },
  {
   "cell_type": "code",
   "execution_count": 243,
   "metadata": {},
   "outputs": [],
   "source": [
    "df_prediccion_Random1.index.names = ['id']"
   ]
  },
  {
   "cell_type": "code",
   "execution_count": 244,
   "metadata": {},
   "outputs": [],
   "source": [
    "df_prediccion_Random1.to_csv('../Data/Submisions_to_kaggle/df_prediccion_Random1.csv')"
   ]
  },
  {
   "cell_type": "markdown",
   "metadata": {},
   "source": [
    "Lanzamos el segundo predict para el modelo de linear model, sin estandarizar ni normalizar "
   ]
  },
  {
   "cell_type": "code",
   "execution_count": 247,
   "metadata": {},
   "outputs": [],
   "source": [
    "y_pred_linear = linear.predict(predict)"
   ]
  },
  {
   "cell_type": "code",
   "execution_count": 248,
   "metadata": {},
   "outputs": [],
   "source": [
    "df_y_pred_linear = pd.DataFrame(prediccion_Random1)"
   ]
  },
  {
   "cell_type": "code",
   "execution_count": 249,
   "metadata": {},
   "outputs": [],
   "source": [
    "df_y_pred_linear.rename(columns={0: 'price'}, inplace=True)"
   ]
  },
  {
   "cell_type": "code",
   "execution_count": 250,
   "metadata": {},
   "outputs": [],
   "source": [
    "df_y_pred_linear.index.names = ['id']"
   ]
  },
  {
   "cell_type": "code",
   "execution_count": 251,
   "metadata": {},
   "outputs": [],
   "source": [
    "df_y_pred_linear.to_csv('../Data/Submisions_to_kaggle/df_y_pred_linear.csv')"
   ]
  },
  {
   "cell_type": "code",
   "execution_count": 260,
   "metadata": {},
   "outputs": [
    {
     "name": "stdout",
     "output_type": "stream",
     "text": [
      "{'n_estimators': [200, 400, 600, 800, 1000, 1200, 1400, 1600, 1800, 2000], 'max_features': ['auto', 'sqrt'], 'max_depth': [10, 20, 30, 40, 50, 60, 70, 80, 90, 100, 110, None], 'min_samples_split': [2, 5, 10], 'min_samples_leaf': [1, 2, 4], 'bootstrap': [True, False]}\n"
     ]
    }
   ],
   "source": [
    "from sklearn.model_selection import RandomizedSearchCV\n",
    "# Number of trees in random forest\n",
    "n_estimators = [int(x) for x in np.linspace(start = 200, stop = 2000, num = 10)]\n",
    "# Number of features to consider at every split\n",
    "max_features = ['auto', 'sqrt']\n",
    "# Maximum number of levels in tree\n",
    "max_depth = [int(x) for x in np.linspace(10, 110, num = 11)]\n",
    "max_depth.append(None)\n",
    "# Minimum number of samples required to split a node\n",
    "min_samples_split = [2, 5, 10]\n",
    "# Minimum number of samples required at each leaf node\n",
    "min_samples_leaf = [1, 2, 4]\n",
    "# Method of selecting samples for training each tree\n",
    "bootstrap = [True, False]\n",
    "# Create the random grid\n",
    "random_grid = {'n_estimators': n_estimators,\n",
    "               'max_features': max_features,\n",
    "               'max_depth': max_depth,\n",
    "               'min_samples_split': min_samples_split,\n",
    "               'min_samples_leaf': min_samples_leaf,\n",
    "               'bootstrap': bootstrap}\n",
    "print(random_grid)"
   ]
  },
  {
   "cell_type": "code",
   "execution_count": 261,
   "metadata": {},
   "outputs": [
    {
     "name": "stdout",
     "output_type": "stream",
     "text": [
      "Fitting 3 folds for each of 100 candidates, totalling 300 fits\n"
     ]
    },
    {
     "name": "stderr",
     "output_type": "stream",
     "text": [
      "[Parallel(n_jobs=-1)]: Using backend LokyBackend with 4 concurrent workers.\n",
      "[Parallel(n_jobs=-1)]: Done  33 tasks      | elapsed: 17.8min\n"
     ]
    },
    {
     "ename": "KeyboardInterrupt",
     "evalue": "",
     "output_type": "error",
     "traceback": [
      "\u001b[0;31m---------------------------------------------------------------------------\u001b[0m",
      "\u001b[0;31mKeyboardInterrupt\u001b[0m                         Traceback (most recent call last)",
      "\u001b[0;32m<ipython-input-261-e6bdfcf27f56>\u001b[0m in \u001b[0;36m<module>\u001b[0;34m\u001b[0m\n\u001b[1;32m      6\u001b[0m \u001b[0mrf_random\u001b[0m \u001b[0;34m=\u001b[0m \u001b[0mRandomizedSearchCV\u001b[0m\u001b[0;34m(\u001b[0m\u001b[0mestimator\u001b[0m \u001b[0;34m=\u001b[0m \u001b[0mrf\u001b[0m\u001b[0;34m,\u001b[0m \u001b[0mparam_distributions\u001b[0m \u001b[0;34m=\u001b[0m \u001b[0mrandom_grid\u001b[0m\u001b[0;34m,\u001b[0m \u001b[0mn_iter\u001b[0m \u001b[0;34m=\u001b[0m \u001b[0;36m100\u001b[0m\u001b[0;34m,\u001b[0m \u001b[0mcv\u001b[0m \u001b[0;34m=\u001b[0m \u001b[0;36m3\u001b[0m\u001b[0;34m,\u001b[0m \u001b[0mverbose\u001b[0m\u001b[0;34m=\u001b[0m\u001b[0;36m2\u001b[0m\u001b[0;34m,\u001b[0m \u001b[0mrandom_state\u001b[0m\u001b[0;34m=\u001b[0m\u001b[0;36m42\u001b[0m\u001b[0;34m,\u001b[0m \u001b[0mn_jobs\u001b[0m \u001b[0;34m=\u001b[0m \u001b[0;34m-\u001b[0m\u001b[0;36m1\u001b[0m\u001b[0;34m)\u001b[0m\u001b[0;34m\u001b[0m\u001b[0;34m\u001b[0m\u001b[0m\n\u001b[1;32m      7\u001b[0m \u001b[0;31m# Fit the random search model\u001b[0m\u001b[0;34m\u001b[0m\u001b[0;34m\u001b[0m\u001b[0;34m\u001b[0m\u001b[0m\n\u001b[0;32m----> 8\u001b[0;31m \u001b[0mrf_random\u001b[0m\u001b[0;34m.\u001b[0m\u001b[0mfit\u001b[0m\u001b[0;34m(\u001b[0m\u001b[0mX_train\u001b[0m\u001b[0;34m,\u001b[0m \u001b[0my_train\u001b[0m\u001b[0;34m)\u001b[0m\u001b[0;34m\u001b[0m\u001b[0;34m\u001b[0m\u001b[0m\n\u001b[0m",
      "\u001b[0;32m/Library/Frameworks/Python.framework/Versions/3.8/lib/python3.8/site-packages/sklearn/utils/validation.py\u001b[0m in \u001b[0;36minner_f\u001b[0;34m(*args, **kwargs)\u001b[0m\n\u001b[1;32m     71\u001b[0m                           FutureWarning)\n\u001b[1;32m     72\u001b[0m         \u001b[0mkwargs\u001b[0m\u001b[0;34m.\u001b[0m\u001b[0mupdate\u001b[0m\u001b[0;34m(\u001b[0m\u001b[0;34m{\u001b[0m\u001b[0mk\u001b[0m\u001b[0;34m:\u001b[0m \u001b[0marg\u001b[0m \u001b[0;32mfor\u001b[0m \u001b[0mk\u001b[0m\u001b[0;34m,\u001b[0m \u001b[0marg\u001b[0m \u001b[0;32min\u001b[0m \u001b[0mzip\u001b[0m\u001b[0;34m(\u001b[0m\u001b[0msig\u001b[0m\u001b[0;34m.\u001b[0m\u001b[0mparameters\u001b[0m\u001b[0;34m,\u001b[0m \u001b[0margs\u001b[0m\u001b[0;34m)\u001b[0m\u001b[0;34m}\u001b[0m\u001b[0;34m)\u001b[0m\u001b[0;34m\u001b[0m\u001b[0;34m\u001b[0m\u001b[0m\n\u001b[0;32m---> 73\u001b[0;31m         \u001b[0;32mreturn\u001b[0m \u001b[0mf\u001b[0m\u001b[0;34m(\u001b[0m\u001b[0;34m**\u001b[0m\u001b[0mkwargs\u001b[0m\u001b[0;34m)\u001b[0m\u001b[0;34m\u001b[0m\u001b[0;34m\u001b[0m\u001b[0m\n\u001b[0m\u001b[1;32m     74\u001b[0m     \u001b[0;32mreturn\u001b[0m \u001b[0minner_f\u001b[0m\u001b[0;34m\u001b[0m\u001b[0;34m\u001b[0m\u001b[0m\n\u001b[1;32m     75\u001b[0m \u001b[0;34m\u001b[0m\u001b[0m\n",
      "\u001b[0;32m/Library/Frameworks/Python.framework/Versions/3.8/lib/python3.8/site-packages/sklearn/model_selection/_search.py\u001b[0m in \u001b[0;36mfit\u001b[0;34m(self, X, y, groups, **fit_params)\u001b[0m\n\u001b[1;32m    734\u001b[0m                 \u001b[0;32mreturn\u001b[0m \u001b[0mresults\u001b[0m\u001b[0;34m\u001b[0m\u001b[0;34m\u001b[0m\u001b[0m\n\u001b[1;32m    735\u001b[0m \u001b[0;34m\u001b[0m\u001b[0m\n\u001b[0;32m--> 736\u001b[0;31m             \u001b[0mself\u001b[0m\u001b[0;34m.\u001b[0m\u001b[0m_run_search\u001b[0m\u001b[0;34m(\u001b[0m\u001b[0mevaluate_candidates\u001b[0m\u001b[0;34m)\u001b[0m\u001b[0;34m\u001b[0m\u001b[0;34m\u001b[0m\u001b[0m\n\u001b[0m\u001b[1;32m    737\u001b[0m \u001b[0;34m\u001b[0m\u001b[0m\n\u001b[1;32m    738\u001b[0m         \u001b[0;31m# For multi-metric evaluation, store the best_index_, best_params_ and\u001b[0m\u001b[0;34m\u001b[0m\u001b[0;34m\u001b[0m\u001b[0;34m\u001b[0m\u001b[0m\n",
      "\u001b[0;32m/Library/Frameworks/Python.framework/Versions/3.8/lib/python3.8/site-packages/sklearn/model_selection/_search.py\u001b[0m in \u001b[0;36m_run_search\u001b[0;34m(self, evaluate_candidates)\u001b[0m\n\u001b[1;32m   1527\u001b[0m     \u001b[0;32mdef\u001b[0m \u001b[0m_run_search\u001b[0m\u001b[0;34m(\u001b[0m\u001b[0mself\u001b[0m\u001b[0;34m,\u001b[0m \u001b[0mevaluate_candidates\u001b[0m\u001b[0;34m)\u001b[0m\u001b[0;34m:\u001b[0m\u001b[0;34m\u001b[0m\u001b[0;34m\u001b[0m\u001b[0m\n\u001b[1;32m   1528\u001b[0m         \u001b[0;34m\"\"\"Search n_iter candidates from param_distributions\"\"\"\u001b[0m\u001b[0;34m\u001b[0m\u001b[0;34m\u001b[0m\u001b[0m\n\u001b[0;32m-> 1529\u001b[0;31m         evaluate_candidates(ParameterSampler(\n\u001b[0m\u001b[1;32m   1530\u001b[0m             \u001b[0mself\u001b[0m\u001b[0;34m.\u001b[0m\u001b[0mparam_distributions\u001b[0m\u001b[0;34m,\u001b[0m \u001b[0mself\u001b[0m\u001b[0;34m.\u001b[0m\u001b[0mn_iter\u001b[0m\u001b[0;34m,\u001b[0m\u001b[0;34m\u001b[0m\u001b[0;34m\u001b[0m\u001b[0m\n\u001b[1;32m   1531\u001b[0m             random_state=self.random_state))\n",
      "\u001b[0;32m/Library/Frameworks/Python.framework/Versions/3.8/lib/python3.8/site-packages/sklearn/model_selection/_search.py\u001b[0m in \u001b[0;36mevaluate_candidates\u001b[0;34m(candidate_params)\u001b[0m\n\u001b[1;32m    706\u001b[0m                               n_splits, n_candidates, n_candidates * n_splits))\n\u001b[1;32m    707\u001b[0m \u001b[0;34m\u001b[0m\u001b[0m\n\u001b[0;32m--> 708\u001b[0;31m                 out = parallel(delayed(_fit_and_score)(clone(base_estimator),\n\u001b[0m\u001b[1;32m    709\u001b[0m                                                        \u001b[0mX\u001b[0m\u001b[0;34m,\u001b[0m \u001b[0my\u001b[0m\u001b[0;34m,\u001b[0m\u001b[0;34m\u001b[0m\u001b[0;34m\u001b[0m\u001b[0m\n\u001b[1;32m    710\u001b[0m                                                        \u001b[0mtrain\u001b[0m\u001b[0;34m=\u001b[0m\u001b[0mtrain\u001b[0m\u001b[0;34m,\u001b[0m \u001b[0mtest\u001b[0m\u001b[0;34m=\u001b[0m\u001b[0mtest\u001b[0m\u001b[0;34m,\u001b[0m\u001b[0;34m\u001b[0m\u001b[0;34m\u001b[0m\u001b[0m\n",
      "\u001b[0;32m/Library/Frameworks/Python.framework/Versions/3.8/lib/python3.8/site-packages/joblib/parallel.py\u001b[0m in \u001b[0;36m__call__\u001b[0;34m(self, iterable)\u001b[0m\n\u001b[1;32m   1040\u001b[0m \u001b[0;34m\u001b[0m\u001b[0m\n\u001b[1;32m   1041\u001b[0m             \u001b[0;32mwith\u001b[0m \u001b[0mself\u001b[0m\u001b[0;34m.\u001b[0m\u001b[0m_backend\u001b[0m\u001b[0;34m.\u001b[0m\u001b[0mretrieval_context\u001b[0m\u001b[0;34m(\u001b[0m\u001b[0;34m)\u001b[0m\u001b[0;34m:\u001b[0m\u001b[0;34m\u001b[0m\u001b[0;34m\u001b[0m\u001b[0m\n\u001b[0;32m-> 1042\u001b[0;31m                 \u001b[0mself\u001b[0m\u001b[0;34m.\u001b[0m\u001b[0mretrieve\u001b[0m\u001b[0;34m(\u001b[0m\u001b[0;34m)\u001b[0m\u001b[0;34m\u001b[0m\u001b[0;34m\u001b[0m\u001b[0m\n\u001b[0m\u001b[1;32m   1043\u001b[0m             \u001b[0;31m# Make sure that we get a last message telling us we are done\u001b[0m\u001b[0;34m\u001b[0m\u001b[0;34m\u001b[0m\u001b[0;34m\u001b[0m\u001b[0m\n\u001b[1;32m   1044\u001b[0m             \u001b[0melapsed_time\u001b[0m \u001b[0;34m=\u001b[0m \u001b[0mtime\u001b[0m\u001b[0;34m.\u001b[0m\u001b[0mtime\u001b[0m\u001b[0;34m(\u001b[0m\u001b[0;34m)\u001b[0m \u001b[0;34m-\u001b[0m \u001b[0mself\u001b[0m\u001b[0;34m.\u001b[0m\u001b[0m_start_time\u001b[0m\u001b[0;34m\u001b[0m\u001b[0;34m\u001b[0m\u001b[0m\n",
      "\u001b[0;32m/Library/Frameworks/Python.framework/Versions/3.8/lib/python3.8/site-packages/joblib/parallel.py\u001b[0m in \u001b[0;36mretrieve\u001b[0;34m(self)\u001b[0m\n\u001b[1;32m    919\u001b[0m             \u001b[0;32mtry\u001b[0m\u001b[0;34m:\u001b[0m\u001b[0;34m\u001b[0m\u001b[0;34m\u001b[0m\u001b[0m\n\u001b[1;32m    920\u001b[0m                 \u001b[0;32mif\u001b[0m \u001b[0mgetattr\u001b[0m\u001b[0;34m(\u001b[0m\u001b[0mself\u001b[0m\u001b[0;34m.\u001b[0m\u001b[0m_backend\u001b[0m\u001b[0;34m,\u001b[0m \u001b[0;34m'supports_timeout'\u001b[0m\u001b[0;34m,\u001b[0m \u001b[0;32mFalse\u001b[0m\u001b[0;34m)\u001b[0m\u001b[0;34m:\u001b[0m\u001b[0;34m\u001b[0m\u001b[0;34m\u001b[0m\u001b[0m\n\u001b[0;32m--> 921\u001b[0;31m                     \u001b[0mself\u001b[0m\u001b[0;34m.\u001b[0m\u001b[0m_output\u001b[0m\u001b[0;34m.\u001b[0m\u001b[0mextend\u001b[0m\u001b[0;34m(\u001b[0m\u001b[0mjob\u001b[0m\u001b[0;34m.\u001b[0m\u001b[0mget\u001b[0m\u001b[0;34m(\u001b[0m\u001b[0mtimeout\u001b[0m\u001b[0;34m=\u001b[0m\u001b[0mself\u001b[0m\u001b[0;34m.\u001b[0m\u001b[0mtimeout\u001b[0m\u001b[0;34m)\u001b[0m\u001b[0;34m)\u001b[0m\u001b[0;34m\u001b[0m\u001b[0;34m\u001b[0m\u001b[0m\n\u001b[0m\u001b[1;32m    922\u001b[0m                 \u001b[0;32melse\u001b[0m\u001b[0;34m:\u001b[0m\u001b[0;34m\u001b[0m\u001b[0;34m\u001b[0m\u001b[0m\n\u001b[1;32m    923\u001b[0m                     \u001b[0mself\u001b[0m\u001b[0;34m.\u001b[0m\u001b[0m_output\u001b[0m\u001b[0;34m.\u001b[0m\u001b[0mextend\u001b[0m\u001b[0;34m(\u001b[0m\u001b[0mjob\u001b[0m\u001b[0;34m.\u001b[0m\u001b[0mget\u001b[0m\u001b[0;34m(\u001b[0m\u001b[0;34m)\u001b[0m\u001b[0;34m)\u001b[0m\u001b[0;34m\u001b[0m\u001b[0;34m\u001b[0m\u001b[0m\n",
      "\u001b[0;32m/Library/Frameworks/Python.framework/Versions/3.8/lib/python3.8/site-packages/joblib/_parallel_backends.py\u001b[0m in \u001b[0;36mwrap_future_result\u001b[0;34m(future, timeout)\u001b[0m\n\u001b[1;32m    540\u001b[0m         AsyncResults.get from multiprocessing.\"\"\"\n\u001b[1;32m    541\u001b[0m         \u001b[0;32mtry\u001b[0m\u001b[0;34m:\u001b[0m\u001b[0;34m\u001b[0m\u001b[0;34m\u001b[0m\u001b[0m\n\u001b[0;32m--> 542\u001b[0;31m             \u001b[0;32mreturn\u001b[0m \u001b[0mfuture\u001b[0m\u001b[0;34m.\u001b[0m\u001b[0mresult\u001b[0m\u001b[0;34m(\u001b[0m\u001b[0mtimeout\u001b[0m\u001b[0;34m=\u001b[0m\u001b[0mtimeout\u001b[0m\u001b[0;34m)\u001b[0m\u001b[0;34m\u001b[0m\u001b[0;34m\u001b[0m\u001b[0m\n\u001b[0m\u001b[1;32m    543\u001b[0m         \u001b[0;32mexcept\u001b[0m \u001b[0mCfTimeoutError\u001b[0m \u001b[0;32mas\u001b[0m \u001b[0me\u001b[0m\u001b[0;34m:\u001b[0m\u001b[0;34m\u001b[0m\u001b[0;34m\u001b[0m\u001b[0m\n\u001b[1;32m    544\u001b[0m             \u001b[0;32mraise\u001b[0m \u001b[0mTimeoutError\u001b[0m \u001b[0;32mfrom\u001b[0m \u001b[0me\u001b[0m\u001b[0;34m\u001b[0m\u001b[0;34m\u001b[0m\u001b[0m\n",
      "\u001b[0;32m/Library/Frameworks/Python.framework/Versions/3.8/lib/python3.8/concurrent/futures/_base.py\u001b[0m in \u001b[0;36mresult\u001b[0;34m(self, timeout)\u001b[0m\n\u001b[1;32m    432\u001b[0m                 \u001b[0;32mreturn\u001b[0m \u001b[0mself\u001b[0m\u001b[0;34m.\u001b[0m\u001b[0m__get_result\u001b[0m\u001b[0;34m(\u001b[0m\u001b[0;34m)\u001b[0m\u001b[0;34m\u001b[0m\u001b[0;34m\u001b[0m\u001b[0m\n\u001b[1;32m    433\u001b[0m \u001b[0;34m\u001b[0m\u001b[0m\n\u001b[0;32m--> 434\u001b[0;31m             \u001b[0mself\u001b[0m\u001b[0;34m.\u001b[0m\u001b[0m_condition\u001b[0m\u001b[0;34m.\u001b[0m\u001b[0mwait\u001b[0m\u001b[0;34m(\u001b[0m\u001b[0mtimeout\u001b[0m\u001b[0;34m)\u001b[0m\u001b[0;34m\u001b[0m\u001b[0;34m\u001b[0m\u001b[0m\n\u001b[0m\u001b[1;32m    435\u001b[0m \u001b[0;34m\u001b[0m\u001b[0m\n\u001b[1;32m    436\u001b[0m             \u001b[0;32mif\u001b[0m \u001b[0mself\u001b[0m\u001b[0;34m.\u001b[0m\u001b[0m_state\u001b[0m \u001b[0;32min\u001b[0m \u001b[0;34m[\u001b[0m\u001b[0mCANCELLED\u001b[0m\u001b[0;34m,\u001b[0m \u001b[0mCANCELLED_AND_NOTIFIED\u001b[0m\u001b[0;34m]\u001b[0m\u001b[0;34m:\u001b[0m\u001b[0;34m\u001b[0m\u001b[0;34m\u001b[0m\u001b[0m\n",
      "\u001b[0;32m/Library/Frameworks/Python.framework/Versions/3.8/lib/python3.8/threading.py\u001b[0m in \u001b[0;36mwait\u001b[0;34m(self, timeout)\u001b[0m\n\u001b[1;32m    300\u001b[0m         \u001b[0;32mtry\u001b[0m\u001b[0;34m:\u001b[0m    \u001b[0;31m# restore state no matter what (e.g., KeyboardInterrupt)\u001b[0m\u001b[0;34m\u001b[0m\u001b[0;34m\u001b[0m\u001b[0m\n\u001b[1;32m    301\u001b[0m             \u001b[0;32mif\u001b[0m \u001b[0mtimeout\u001b[0m \u001b[0;32mis\u001b[0m \u001b[0;32mNone\u001b[0m\u001b[0;34m:\u001b[0m\u001b[0;34m\u001b[0m\u001b[0;34m\u001b[0m\u001b[0m\n\u001b[0;32m--> 302\u001b[0;31m                 \u001b[0mwaiter\u001b[0m\u001b[0;34m.\u001b[0m\u001b[0macquire\u001b[0m\u001b[0;34m(\u001b[0m\u001b[0;34m)\u001b[0m\u001b[0;34m\u001b[0m\u001b[0;34m\u001b[0m\u001b[0m\n\u001b[0m\u001b[1;32m    303\u001b[0m                 \u001b[0mgotit\u001b[0m \u001b[0;34m=\u001b[0m \u001b[0;32mTrue\u001b[0m\u001b[0;34m\u001b[0m\u001b[0;34m\u001b[0m\u001b[0m\n\u001b[1;32m    304\u001b[0m             \u001b[0;32melse\u001b[0m\u001b[0;34m:\u001b[0m\u001b[0;34m\u001b[0m\u001b[0;34m\u001b[0m\u001b[0m\n",
      "\u001b[0;31mKeyboardInterrupt\u001b[0m: "
     ]
    }
   ],
   "source": [
    "# Use the random grid to search for best hyperparameters\n",
    "# First create the base model to tune\n",
    "rf = RandomForestRegressor()\n",
    "# Random search of parameters, using 3 fold cross validation, \n",
    "# search across 100 different combinations, and use all available cores\n",
    "rf_random = RandomizedSearchCV(estimator = rf, param_distributions = random_grid, n_iter = 100, cv = 3, verbose=2, random_state=42, n_jobs = -1)\n",
    "# Fit the random search model\n",
    "rf_random.fit(X_train, y_train)"
   ]
  },
  {
   "cell_type": "code",
   "execution_count": null,
   "metadata": {},
   "outputs": [],
   "source": []
  }
 ],
 "metadata": {
  "kernelspec": {
   "display_name": "Python 3",
   "language": "python",
   "name": "python3"
  },
  "language_info": {
   "codemirror_mode": {
    "name": "ipython",
    "version": 3
   },
   "file_extension": ".py",
   "mimetype": "text/x-python",
   "name": "python",
   "nbconvert_exporter": "python",
   "pygments_lexer": "ipython3",
   "version": "3.8.2"
  }
 },
 "nbformat": 4,
 "nbformat_minor": 4
}
