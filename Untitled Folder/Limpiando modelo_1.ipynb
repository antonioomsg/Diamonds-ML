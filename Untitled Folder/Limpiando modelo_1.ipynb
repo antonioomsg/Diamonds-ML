{
 "cells": [
  {
   "cell_type": "code",
   "execution_count": 1,
   "metadata": {},
   "outputs": [],
   "source": [
    "#importamos las librerias adecuadas para la limpieza del modelo. \n",
    "\n",
    "import pandas as pd\n",
    "import numpy as np\n",
    "import seaborn as sns\n",
    "\n",
    "import matplotlib.pyplot as plt\n",
    "import matplotlib.mlab as mlab\n",
    "import matplotlib\n",
    "from scipy import stats\n"
   ]
  },
  {
   "cell_type": "markdown",
   "metadata": {},
   "source": [
    "Importamos nuestro modelo train. "
   ]
  },
  {
   "cell_type": "code",
   "execution_count": 2,
   "metadata": {},
   "outputs": [],
   "source": [
    "df = pd.read_csv('../data/diamonds-datamad0620/train.csv')"
   ]
  },
  {
   "cell_type": "markdown",
   "metadata": {},
   "source": [
    "shape and data types of the data"
   ]
  },
  {
   "cell_type": "code",
   "execution_count": 3,
   "metadata": {},
   "outputs": [
    {
     "name": "stdout",
     "output_type": "stream",
     "text": [
      "(40455, 11)\n",
      "id           int64\n",
      "carat      float64\n",
      "cut         object\n",
      "color       object\n",
      "clarity     object\n",
      "depth      float64\n",
      "table      float64\n",
      "x          float64\n",
      "y          float64\n",
      "z          float64\n",
      "price        int64\n",
      "dtype: object\n"
     ]
    }
   ],
   "source": [
    "print(df.shape)\n",
    "print(df.dtypes)"
   ]
  },
  {
   "cell_type": "markdown",
   "metadata": {},
   "source": [
    "Hacemos check del missing data."
   ]
  },
  {
   "cell_type": "code",
   "execution_count": null,
   "metadata": {
    "scrolled": true
   },
   "outputs": [],
   "source": [
    "cols = df.columns\n",
    "colours = ['#000099', '#ffff00'] #Amarillo falta no falta, azul falta.\n",
    "sns.heatmap(df[cols].isnull(), cmap=sns.color_palette(colours))\n",
    "#Como podemos comprobar nuestro modelo esta limpisimo."
   ]
  },
  {
   "cell_type": "markdown",
   "metadata": {},
   "source": [
    "A continuación convertimos los datos categoricos a númericos. Hacemos este paso previo a buscar outliers."
   ]
  },
  {
   "cell_type": "code",
   "execution_count": null,
   "metadata": {},
   "outputs": [],
   "source": [
    "df_numeric = pd.get_dummies(df)"
   ]
  },
  {
   "cell_type": "code",
   "execution_count": null,
   "metadata": {},
   "outputs": [],
   "source": [
    "print(df_numeric.shape)\n",
    "print(df_numeric.dtypes)"
   ]
  },
  {
   "cell_type": "code",
   "execution_count": null,
   "metadata": {},
   "outputs": [],
   "source": [
    "df_numeric.head(5)"
   ]
  },
  {
   "cell_type": "markdown",
   "metadata": {},
   "source": [
    "Según la base de datos, table es la multiplicacion de X,Y,Z por lo que la eliminamos de nuestra base de datos ya que es informacion que podría ser dedundante. "
   ]
  },
  {
   "cell_type": "code",
   "execution_count": null,
   "metadata": {},
   "outputs": [],
   "source": [
    "df_numeric.drop([\"id\",\"depth\"],axis=1,inplace=True)"
   ]
  },
  {
   "cell_type": "code",
   "execution_count": null,
   "metadata": {
    "scrolled": true
   },
   "outputs": [],
   "source": [
    "df_numeric.head(1)"
   ]
  },
  {
   "cell_type": "code",
   "execution_count": null,
   "metadata": {},
   "outputs": [],
   "source": [
    "data = df_numeric\n",
    "\n",
    "f, ax = plt.subplots(figsize=(7, 7))\n",
    "corr = data.corr()\n",
    "ax = sns.heatmap(\n",
    "    corr, \n",
    "    vmin=-1, vmax=1, center=0,\n",
    "    cmap=sns.diverging_palette(20, 220, n=200),\n",
    "    square=True\n",
    ")\n",
    "ax.set_xticklabels(\n",
    "    ax.get_xticklabels(),\n",
    "    rotation=45,\n",
    "    horizontalalignment='right'\n",
    ");"
   ]
  },
  {
   "cell_type": "markdown",
   "metadata": {},
   "source": [
    "Comprobamos que carat y  X,Y,Z son los valores con una correlacion positiva más alta. "
   ]
  },
  {
   "cell_type": "markdown",
   "metadata": {},
   "source": [
    "A continuación procedemos a limpiar de outliers nuestro dataset."
   ]
  },
  {
   "cell_type": "code",
   "execution_count": null,
   "metadata": {
    "scrolled": true
   },
   "outputs": [],
   "source": [
    "df_numeric.describe()"
   ]
  },
  {
   "cell_type": "markdown",
   "metadata": {},
   "source": [
    "Podemos observar como existen valores en X,Y,Z que son 0, por lo que creo que son valores nulos. "
   ]
  },
  {
   "cell_type": "code",
   "execution_count": null,
   "metadata": {},
   "outputs": [],
   "source": [
    "df_no_outliers = df_numeric[(np.abs(stats.zscore(df_numeric)) < 4.9).all(axis=1)]"
   ]
  },
  {
   "cell_type": "code",
   "execution_count": null,
   "metadata": {},
   "outputs": [],
   "source": [
    "print(df_no_outliers.shape)"
   ]
  },
  {
   "cell_type": "code",
   "execution_count": 131,
   "metadata": {},
   "outputs": [
    {
     "data": {
      "text/html": [
       "<div>\n",
       "<style scoped>\n",
       "    .dataframe tbody tr th:only-of-type {\n",
       "        vertical-align: middle;\n",
       "    }\n",
       "\n",
       "    .dataframe tbody tr th {\n",
       "        vertical-align: top;\n",
       "    }\n",
       "\n",
       "    .dataframe thead th {\n",
       "        text-align: right;\n",
       "    }\n",
       "</style>\n",
       "<table border=\"1\" class=\"dataframe\">\n",
       "  <thead>\n",
       "    <tr style=\"text-align: right;\">\n",
       "      <th></th>\n",
       "      <th>carat</th>\n",
       "      <th>depth</th>\n",
       "      <th>x</th>\n",
       "      <th>y</th>\n",
       "      <th>z</th>\n",
       "      <th>price</th>\n",
       "      <th>cut_Good</th>\n",
       "      <th>cut_Ideal</th>\n",
       "      <th>cut_Premium</th>\n",
       "      <th>cut_Very Good</th>\n",
       "      <th>color_E</th>\n",
       "      <th>color_F</th>\n",
       "      <th>color_G</th>\n",
       "      <th>color_H</th>\n",
       "      <th>color_I</th>\n",
       "      <th>color_J</th>\n",
       "      <th>clarity_IF</th>\n",
       "      <th>clarity_SI1</th>\n",
       "      <th>clarity_SI2</th>\n",
       "      <th>clarity_VS1</th>\n",
       "      <th>clarity_VS2</th>\n",
       "      <th>clarity_VVS1</th>\n",
       "      <th>clarity_VVS2</th>\n",
       "    </tr>\n",
       "  </thead>\n",
       "  <tbody>\n",
       "    <tr>\n",
       "      <th>count</th>\n",
       "      <td>39048.000000</td>\n",
       "      <td>39048.000000</td>\n",
       "      <td>39048.000000</td>\n",
       "      <td>39048.000000</td>\n",
       "      <td>39048.000000</td>\n",
       "      <td>39048.000000</td>\n",
       "      <td>39048.000000</td>\n",
       "      <td>39048.000000</td>\n",
       "      <td>39048.000000</td>\n",
       "      <td>39048.000000</td>\n",
       "      <td>39048.000000</td>\n",
       "      <td>39048.000000</td>\n",
       "      <td>39048.000000</td>\n",
       "      <td>39048.000000</td>\n",
       "      <td>39048.000000</td>\n",
       "      <td>39048.000000</td>\n",
       "      <td>39048.0</td>\n",
       "      <td>39048.000000</td>\n",
       "      <td>39048.000000</td>\n",
       "      <td>39048.000000</td>\n",
       "      <td>39048.000000</td>\n",
       "      <td>39048.000000</td>\n",
       "      <td>39048.000000</td>\n",
       "    </tr>\n",
       "    <tr>\n",
       "      <th>mean</th>\n",
       "      <td>0.805831</td>\n",
       "      <td>61.749613</td>\n",
       "      <td>5.754511</td>\n",
       "      <td>5.755741</td>\n",
       "      <td>3.553315</td>\n",
       "      <td>3960.477336</td>\n",
       "      <td>0.092706</td>\n",
       "      <td>0.391236</td>\n",
       "      <td>0.258374</td>\n",
       "      <td>0.228898</td>\n",
       "      <td>0.185464</td>\n",
       "      <td>0.176475</td>\n",
       "      <td>0.203698</td>\n",
       "      <td>0.153222</td>\n",
       "      <td>0.101721</td>\n",
       "      <td>0.052576</td>\n",
       "      <td>0.0</td>\n",
       "      <td>0.251076</td>\n",
       "      <td>0.174682</td>\n",
       "      <td>0.157370</td>\n",
       "      <td>0.235710</td>\n",
       "      <td>0.071118</td>\n",
       "      <td>0.096830</td>\n",
       "    </tr>\n",
       "    <tr>\n",
       "      <th>std</th>\n",
       "      <td>0.471857</td>\n",
       "      <td>1.397277</td>\n",
       "      <td>1.115584</td>\n",
       "      <td>1.107779</td>\n",
       "      <td>0.689033</td>\n",
       "      <td>3976.097286</td>\n",
       "      <td>0.290024</td>\n",
       "      <td>0.488033</td>\n",
       "      <td>0.437746</td>\n",
       "      <td>0.420129</td>\n",
       "      <td>0.388679</td>\n",
       "      <td>0.381229</td>\n",
       "      <td>0.402752</td>\n",
       "      <td>0.360206</td>\n",
       "      <td>0.302285</td>\n",
       "      <td>0.223189</td>\n",
       "      <td>0.0</td>\n",
       "      <td>0.433637</td>\n",
       "      <td>0.379700</td>\n",
       "      <td>0.364154</td>\n",
       "      <td>0.424447</td>\n",
       "      <td>0.257024</td>\n",
       "      <td>0.295729</td>\n",
       "    </tr>\n",
       "    <tr>\n",
       "      <th>min</th>\n",
       "      <td>0.200000</td>\n",
       "      <td>55.000000</td>\n",
       "      <td>3.730000</td>\n",
       "      <td>3.680000</td>\n",
       "      <td>1.070000</td>\n",
       "      <td>326.000000</td>\n",
       "      <td>0.000000</td>\n",
       "      <td>0.000000</td>\n",
       "      <td>0.000000</td>\n",
       "      <td>0.000000</td>\n",
       "      <td>0.000000</td>\n",
       "      <td>0.000000</td>\n",
       "      <td>0.000000</td>\n",
       "      <td>0.000000</td>\n",
       "      <td>0.000000</td>\n",
       "      <td>0.000000</td>\n",
       "      <td>0.0</td>\n",
       "      <td>0.000000</td>\n",
       "      <td>0.000000</td>\n",
       "      <td>0.000000</td>\n",
       "      <td>0.000000</td>\n",
       "      <td>0.000000</td>\n",
       "      <td>0.000000</td>\n",
       "    </tr>\n",
       "    <tr>\n",
       "      <th>25%</th>\n",
       "      <td>0.400000</td>\n",
       "      <td>61.000000</td>\n",
       "      <td>4.740000</td>\n",
       "      <td>4.740000</td>\n",
       "      <td>2.930000</td>\n",
       "      <td>956.000000</td>\n",
       "      <td>0.000000</td>\n",
       "      <td>0.000000</td>\n",
       "      <td>0.000000</td>\n",
       "      <td>0.000000</td>\n",
       "      <td>0.000000</td>\n",
       "      <td>0.000000</td>\n",
       "      <td>0.000000</td>\n",
       "      <td>0.000000</td>\n",
       "      <td>0.000000</td>\n",
       "      <td>0.000000</td>\n",
       "      <td>0.0</td>\n",
       "      <td>0.000000</td>\n",
       "      <td>0.000000</td>\n",
       "      <td>0.000000</td>\n",
       "      <td>0.000000</td>\n",
       "      <td>0.000000</td>\n",
       "      <td>0.000000</td>\n",
       "    </tr>\n",
       "    <tr>\n",
       "      <th>50%</th>\n",
       "      <td>0.710000</td>\n",
       "      <td>61.900000</td>\n",
       "      <td>5.720000</td>\n",
       "      <td>5.730000</td>\n",
       "      <td>3.540000</td>\n",
       "      <td>2469.500000</td>\n",
       "      <td>0.000000</td>\n",
       "      <td>0.000000</td>\n",
       "      <td>0.000000</td>\n",
       "      <td>0.000000</td>\n",
       "      <td>0.000000</td>\n",
       "      <td>0.000000</td>\n",
       "      <td>0.000000</td>\n",
       "      <td>0.000000</td>\n",
       "      <td>0.000000</td>\n",
       "      <td>0.000000</td>\n",
       "      <td>0.0</td>\n",
       "      <td>0.000000</td>\n",
       "      <td>0.000000</td>\n",
       "      <td>0.000000</td>\n",
       "      <td>0.000000</td>\n",
       "      <td>0.000000</td>\n",
       "      <td>0.000000</td>\n",
       "    </tr>\n",
       "    <tr>\n",
       "      <th>75%</th>\n",
       "      <td>1.050000</td>\n",
       "      <td>62.500000</td>\n",
       "      <td>6.550000</td>\n",
       "      <td>6.550000</td>\n",
       "      <td>4.040000</td>\n",
       "      <td>5384.250000</td>\n",
       "      <td>0.000000</td>\n",
       "      <td>1.000000</td>\n",
       "      <td>1.000000</td>\n",
       "      <td>0.000000</td>\n",
       "      <td>0.000000</td>\n",
       "      <td>0.000000</td>\n",
       "      <td>0.000000</td>\n",
       "      <td>0.000000</td>\n",
       "      <td>0.000000</td>\n",
       "      <td>0.000000</td>\n",
       "      <td>0.0</td>\n",
       "      <td>1.000000</td>\n",
       "      <td>0.000000</td>\n",
       "      <td>0.000000</td>\n",
       "      <td>0.000000</td>\n",
       "      <td>0.000000</td>\n",
       "      <td>0.000000</td>\n",
       "    </tr>\n",
       "    <tr>\n",
       "      <th>max</th>\n",
       "      <td>3.110000</td>\n",
       "      <td>68.700000</td>\n",
       "      <td>9.510000</td>\n",
       "      <td>9.460000</td>\n",
       "      <td>6.160000</td>\n",
       "      <td>18818.000000</td>\n",
       "      <td>1.000000</td>\n",
       "      <td>1.000000</td>\n",
       "      <td>1.000000</td>\n",
       "      <td>1.000000</td>\n",
       "      <td>1.000000</td>\n",
       "      <td>1.000000</td>\n",
       "      <td>1.000000</td>\n",
       "      <td>1.000000</td>\n",
       "      <td>1.000000</td>\n",
       "      <td>1.000000</td>\n",
       "      <td>0.0</td>\n",
       "      <td>1.000000</td>\n",
       "      <td>1.000000</td>\n",
       "      <td>1.000000</td>\n",
       "      <td>1.000000</td>\n",
       "      <td>1.000000</td>\n",
       "      <td>1.000000</td>\n",
       "    </tr>\n",
       "  </tbody>\n",
       "</table>\n",
       "</div>"
      ],
      "text/plain": [
       "              carat         depth             x             y             z  \\\n",
       "count  39048.000000  39048.000000  39048.000000  39048.000000  39048.000000   \n",
       "mean       0.805831     61.749613      5.754511      5.755741      3.553315   \n",
       "std        0.471857      1.397277      1.115584      1.107779      0.689033   \n",
       "min        0.200000     55.000000      3.730000      3.680000      1.070000   \n",
       "25%        0.400000     61.000000      4.740000      4.740000      2.930000   \n",
       "50%        0.710000     61.900000      5.720000      5.730000      3.540000   \n",
       "75%        1.050000     62.500000      6.550000      6.550000      4.040000   \n",
       "max        3.110000     68.700000      9.510000      9.460000      6.160000   \n",
       "\n",
       "              price      cut_Good     cut_Ideal   cut_Premium  cut_Very Good  \\\n",
       "count  39048.000000  39048.000000  39048.000000  39048.000000   39048.000000   \n",
       "mean    3960.477336      0.092706      0.391236      0.258374       0.228898   \n",
       "std     3976.097286      0.290024      0.488033      0.437746       0.420129   \n",
       "min      326.000000      0.000000      0.000000      0.000000       0.000000   \n",
       "25%      956.000000      0.000000      0.000000      0.000000       0.000000   \n",
       "50%     2469.500000      0.000000      0.000000      0.000000       0.000000   \n",
       "75%     5384.250000      0.000000      1.000000      1.000000       0.000000   \n",
       "max    18818.000000      1.000000      1.000000      1.000000       1.000000   \n",
       "\n",
       "            color_E       color_F       color_G       color_H       color_I  \\\n",
       "count  39048.000000  39048.000000  39048.000000  39048.000000  39048.000000   \n",
       "mean       0.185464      0.176475      0.203698      0.153222      0.101721   \n",
       "std        0.388679      0.381229      0.402752      0.360206      0.302285   \n",
       "min        0.000000      0.000000      0.000000      0.000000      0.000000   \n",
       "25%        0.000000      0.000000      0.000000      0.000000      0.000000   \n",
       "50%        0.000000      0.000000      0.000000      0.000000      0.000000   \n",
       "75%        0.000000      0.000000      0.000000      0.000000      0.000000   \n",
       "max        1.000000      1.000000      1.000000      1.000000      1.000000   \n",
       "\n",
       "            color_J  clarity_IF   clarity_SI1   clarity_SI2   clarity_VS1  \\\n",
       "count  39048.000000     39048.0  39048.000000  39048.000000  39048.000000   \n",
       "mean       0.052576         0.0      0.251076      0.174682      0.157370   \n",
       "std        0.223189         0.0      0.433637      0.379700      0.364154   \n",
       "min        0.000000         0.0      0.000000      0.000000      0.000000   \n",
       "25%        0.000000         0.0      0.000000      0.000000      0.000000   \n",
       "50%        0.000000         0.0      0.000000      0.000000      0.000000   \n",
       "75%        0.000000         0.0      1.000000      0.000000      0.000000   \n",
       "max        1.000000         0.0      1.000000      1.000000      1.000000   \n",
       "\n",
       "        clarity_VS2  clarity_VVS1  clarity_VVS2  \n",
       "count  39048.000000  39048.000000  39048.000000  \n",
       "mean       0.235710      0.071118      0.096830  \n",
       "std        0.424447      0.257024      0.295729  \n",
       "min        0.000000      0.000000      0.000000  \n",
       "25%        0.000000      0.000000      0.000000  \n",
       "50%        0.000000      0.000000      0.000000  \n",
       "75%        0.000000      0.000000      0.000000  \n",
       "max        1.000000      1.000000      1.000000  "
      ]
     },
     "execution_count": 131,
     "metadata": {},
     "output_type": "execute_result"
    }
   ],
   "source": [
    "pd.set_option('display.max_columns', None) \n",
    "df_no_outliers.describe()"
   ]
  },
  {
   "cell_type": "markdown",
   "metadata": {},
   "source": [
    "Hemos ido cambiando el valor de Z hasta conseguir que los valores númericos todos tengan un valor.Así nos quitamos los nulos escondidos."
   ]
  },
  {
   "cell_type": "code",
   "execution_count": 132,
   "metadata": {},
   "outputs": [],
   "source": [
    "df_no_outliers.to_csv('../Data/diamonds_output/Cleaned_diamonds.csv',index=False)"
   ]
  }
 ],
 "metadata": {
  "kernelspec": {
   "display_name": "Python 3",
   "language": "python",
   "name": "python3"
  },
  "language_info": {
   "codemirror_mode": {
    "name": "ipython",
    "version": 3
   },
   "file_extension": ".py",
   "mimetype": "text/x-python",
   "name": "python",
   "nbconvert_exporter": "python",
   "pygments_lexer": "ipython3",
   "version": "3.8.2"
  }
 },
 "nbformat": 4,
 "nbformat_minor": 4
}
